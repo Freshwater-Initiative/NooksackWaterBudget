{
 "cells": [
  {
   "cell_type": "code",
   "execution_count": 1,
   "metadata": {},
   "outputs": [
    {
     "name": "stdout",
     "output_type": "stream",
     "text": [
      "/home/jovyan/work/Github/NooksackWaterBudget/Postprocessing\r\n"
     ]
    }
   ],
   "source": [
    "!pwd"
   ]
  },
  {
   "cell_type": "code",
   "execution_count": 33,
   "metadata": {},
   "outputs": [],
   "source": [
    "import numpy as np\n",
    "import os"
   ]
  },
  {
   "cell_type": "code",
   "execution_count": 217,
   "metadata": {},
   "outputs": [],
   "source": [
    "def readprintTopnetDrain(filename):\n",
    "    file = open(filename,'r')\n",
    "    lines = file.readlines()\n",
    "    #for x in lines:\n",
    "    #    print(x)\n",
    "    file.close()\n",
    "    line1=lines[0]\n",
    "    \n",
    "    drains=np.array([int(line1) for line1 in line1.split() if line1.isdigit()])\n",
    "    \n",
    "    return(drains)\n",
    "\n",
    " \n",
    "    \n",
    "def readprintTopnetAnn(filename):\n",
    "    file = open(filename,'r')\n",
    "    lines = file.readlines()\n",
    "    file.close()\n",
    "    line2=lines[1]\n",
    "    \n",
    "    out00 = line2.replace('0.0000000e+00','0.0').rstrip()\n",
    "    out0 = out00.replace(' ',',')\n",
    "    out1 = out0.replace(',,,,,',',')\n",
    "    out2 = out1.replace(',,,,',',')\n",
    "    out3 = out2.replace(',,,',',')\n",
    "    out4 = np.array(out3.replace(',,',','))\n",
    "    return(out4)\n",
    "    print(line2)"
   ]
  },
  {
   "cell_type": "code",
   "execution_count": 250,
   "metadata": {},
   "outputs": [],
   "source": [
    "#os.chdir('/home/jovyan/work/Github/NooksackWaterBudget/Postprocessing/Bertrand/annresults_bertrandtest5_20190521')\n",
    "os.chdir('/home/jovyan/work/Github/NooksackWaterBudget/Postprocessing/LENS/annresults_wria1_20190521')\n"
   ]
  },
  {
   "cell_type": "code",
   "execution_count": 251,
   "metadata": {},
   "outputs": [
    {
     "name": "stdout",
     "output_type": "stream",
     "text": [
      "/home/jovyan/work/Github/NooksackWaterBudget/Postprocessing/LENS/annresults_wria1_20190521\r\n"
     ]
    }
   ],
   "source": [
    "!pwd"
   ]
  },
  {
   "cell_type": "code",
   "execution_count": 252,
   "metadata": {},
   "outputs": [],
   "source": [
    "drains = readprintTopnetDrain('AnnAveDrainageWithdrawalByUserType_1_cmy.txt')\n",
    "user1 = readprintTopnetAnn('AnnAveDrainageWithdrawalByUserType_1_cmy.txt')\n",
    "user2 = readprintTopnetAnn('AnnAveDrainageWithdrawalByUserType_2_cmy.txt')\n",
    "user3 = readprintTopnetAnn('AnnAveDrainageWithdrawalByUserType_3_cmy.txt')\n",
    "user4 = readprintTopnetAnn('AnnAveDrainageWithdrawalByUserType_4_cmy.txt')\n",
    "user5 = readprintTopnetAnn('AnnAveDrainageWithdrawalByUserType_5_cmy.txt')\n",
    "user6 = readprintTopnetAnn('AnnAveDrainageWithdrawalByUserType_6_cmy.txt')\n",
    "\n",
    "artdrain = readprintTopnetAnn('annual_mean_artificial_drainage_cmy.txt')\n",
    "evap = readprintTopnetAnn('annual_mean_evaporation_mm.txt')\n",
    "potevap = readprintTopnetAnn('annual_mean_potentialevap_mm.txt')\n",
    "precip = readprintTopnetAnn('annual_mean_precipitation_mm.txt')\n",
    "recharge = readprintTopnetAnn('annual_mean_recharge_mm.txt')\n",
    "returnflow = readprintTopnetAnn('annual_mean_return_flow_cmy.txt')\n",
    "upwelling = readprintTopnetAnn('annual_mean_upwelling_mm.txt')\n",
    "\n"
   ]
  },
  {
   "cell_type": "code",
   "execution_count": 253,
   "metadata": {},
   "outputs": [
    {
     "name": "stdout",
     "output_type": "stream",
     "text": [
      "[  5   6   7   8   9  11  12  13  14  15  16  17  18  19  20  21  22  23\n",
      "  24  25  26  27  28  29  30  31  32  33  34  35  36  37  38  39  40  41\n",
      "  42  43  44  45  46  47  48  49  50  51  52  53  54  55  56  57  58  59\n",
      "  60  61  62  63  64  65  66  67  68  69  70  71  72  73  74  75  76  77\n",
      "  78  79  80  81  82  83  84  85  86  87  88  89  90  91  92  93  94  95\n",
      "  96  97  98  99 100 101 102 103 104 105 106 107 108 109 110 111 112 113\n",
      " 114 115 116 117 118 119 120 121 122 123 124 125 126 127 128 129 130 131\n",
      " 132 133 134 135 136 137 138 140 141 142 143 144 145 146 147 148 149 150\n",
      " 151 152 153 154 155 156 159 161 162 163 164 165 166 167 168 169 170 171\n",
      " 172 173 175 176 177 178 179 180 200]\n"
     ]
    },
    {
     "data": {
      "text/plain": [
       "numpy.ndarray"
      ]
     },
     "execution_count": 253,
     "metadata": {},
     "output_type": "execute_result"
    }
   ],
   "source": [
    "print(drains)\n",
    "type(drains)\n",
    "#why is this missing drain #1?  ugh\n"
   ]
  },
  {
   "cell_type": "code",
   "execution_count": 254,
   "metadata": {},
   "outputs": [
    {
     "name": "stdout",
     "output_type": "stream",
     "text": [
      "/home/jovyan/work/Github/NooksackWaterBudget/Postprocessing/LENS/annresults_wria1_20190521\r\n"
     ]
    }
   ],
   "source": [
    "!pwd"
   ]
  },
  {
   "cell_type": "code",
   "execution_count": 255,
   "metadata": {},
   "outputs": [],
   "source": [
    "\n",
    "out =[drains,artdrain,evap,potevap,precip,recharge,returnflow,upwelling, user1,user2,user3,user4,user5,user6]\n",
    "#print(out_mm)\n",
    "np.savetxt('annresults_wria1_20190521_out.csv', out, delimiter=';', fmt='%s')"
   ]
  },
  {
   "cell_type": "code",
   "execution_count": null,
   "metadata": {},
   "outputs": [],
   "source": []
  },
  {
   "cell_type": "code",
   "execution_count": null,
   "metadata": {},
   "outputs": [],
   "source": []
  },
  {
   "cell_type": "code",
   "execution_count": null,
   "metadata": {},
   "outputs": [],
   "source": []
  }
 ],
 "metadata": {
  "kernelspec": {
   "display_name": "Python 3",
   "language": "python",
   "name": "python3"
  },
  "language_info": {
   "codemirror_mode": {
    "name": "ipython",
    "version": 3
   },
   "file_extension": ".py",
   "mimetype": "text/x-python",
   "name": "python",
   "nbconvert_exporter": "python",
   "pygments_lexer": "ipython3",
   "version": "3.6.7"
  }
 },
 "nbformat": 4,
 "nbformat_minor": 2
}
